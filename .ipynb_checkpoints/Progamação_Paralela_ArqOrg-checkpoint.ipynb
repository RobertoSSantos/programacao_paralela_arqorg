{
 "cells": [
  {
   "cell_type": "markdown",
   "id": "76c4c847-1121-4834-9068-1d29fe086099",
   "metadata": {},
   "source": [
    "# Programação Paralela"
   ]
  },
  {
   "cell_type": "markdown",
   "id": "45f6127e-deae-4c88-a082-6f42eab2f628",
   "metadata": {},
   "source": [
    "Team: Pedro Menezes, Roberto Santos"
   ]
  },
  {
   "cell_type": "markdown",
   "id": "17af19db-9259-4a47-85d5-6df81ea936c0",
   "metadata": {},
   "source": [
    "Para a realização dessa atividade, foi selecionado o problema da multiplicação de matrizes, utilizando a linguagem python para o notebook e linguagem C para a realização e execução dos códigos, junto à linguagem será utilizada a biblioteca OpenMP uma ferramenta utilizada para programação com o paradigma paralela no modelo de memória compartilhada. Os resultados alcançados serão apresentados após a execução dos códigos sequencial e paralelo."
   ]
  },
  {
   "cell_type": "markdown",
   "id": "381329f5-6fe2-4864-859e-f120328fe8ab",
   "metadata": {},
   "source": [
    "## Execução Sequencial"
   ]
  },
  {
   "cell_type": "code",
   "execution_count": 2,
   "id": "965530e0-3c7d-48a5-985f-e830c2248ca3",
   "metadata": {},
   "outputs": [
    {
     "name": "stdout",
     "output_type": "stream",
     "text": [
      "Writing mm.c\n"
     ]
    }
   ],
   "source": [
    "%%writefile mm.c\n",
    "#include <stdio.h>\n",
    "#include <stdlib.h>\n",
    "#include <omp.h>\n",
    "\n",
    "void initializeMatrix(int *matrix, int size)\n",
    "{\n",
    "  for(int i = 0; i < size; i++)\n",
    "    for(int j = 0; j < size; j++)\n",
    "      matrix[i * size + j] = rand() % (10 - 1) * 1;\n",
    "}\n",
    "\n",
    "void printMatrix(int *matrix, int size)\n",
    "{\n",
    "  for(int i = 0; i < size; i++)\n",
    "  {\n",
    "    for(int j = 0; j < size; j++)\n",
    "      printf(\"%d\\t\", matrix[i * size + j]);\n",
    "    printf(\"\\n\");\n",
    "  }\n",
    "  printf(\"\\n\");\n",
    "}\n",
    "\n",
    "int main(int argc, char **argv)\n",
    "{\n",
    " int size = atoi(argv[1]);  \n",
    " int i, j, k;\n",
    " double t1, t2;\n",
    "\n",
    " int  *A = (int *) malloc (sizeof(int)*size*size);\n",
    " int  *B = (int *) malloc (sizeof(int)*size*size);\n",
    " int  *C = (int *) malloc (sizeof(int)*size*size);\n",
    "\n",
    " initializeMatrix(A, size);\n",
    " initializeMatrix(B, size);\n",
    "\n",
    " t1 = omp_get_wtime();\n",
    "   for(i = 0; i < size; i++)\n",
    "    for(j = 0; j < size; j++)\n",
    "      for(k = 0; k < size; k++)\n",
    "        C[i * size + j] += A[i * size + k] * B[k * size + j];\n",
    " t2 = omp_get_wtime();\n",
    "\n",
    " printf(\"%d\\t%f\\n\",size, t2-t1);\n",
    "\n",
    " //printMatrix(A,size);\n",
    " //printMatrix(B,size);\n",
    " //printMatrix(C,size);\n",
    "\n",
    " return 0;\n",
    "}"
   ]
  },
  {
   "cell_type": "markdown",
   "id": "cbbfa857-78bf-4ec7-bdd0-093b3b66727e",
   "metadata": {},
   "source": [
    "#### Explicação do Código"
   ]
  },
  {
   "cell_type": "markdown",
   "id": "5ddddc6e-0598-4a30-bf05-2f7e191efa8c",
   "metadata": {},
   "source": [
    " No código acima, é realizado a multiplicação de duas matrizes de tamanho N, o tamanho é determinado pelo usuário na execução do código. Para a atividade, será realizada a multiplicação de duas matrizes 1000x1000."
   ]
  },
  {
   "cell_type": "markdown",
   "id": "3c1e54bf-2e38-40e6-a76b-adb015ebcf91",
   "metadata": {},
   "source": [
    "Como podemos ver no código acima, foi utilizada a biblioteca OpemMP, apesar disso toda a execução do código é sequencial, a biblioteca está sendo utilizada somente para a medição do tempo de execução."
   ]
  },
  {
   "cell_type": "markdown",
   "id": "85e91aa2-1858-4668-bbfb-ce8eb9499134",
   "metadata": {},
   "source": [
    "### Execução do Código Sequencial"
   ]
  },
  {
   "cell_type": "markdown",
   "id": "c6211528-804c-48d7-99d0-6d22cf67c295",
   "metadata": {},
   "source": [
    "Para a execução do código é necessário chamar a diretiva -fopenmp para que ele seja compilado junto à biblioteca."
   ]
  },
  {
   "cell_type": "code",
   "execution_count": 3,
   "id": "4f716282-6190-443d-a9c1-806ff0d99648",
   "metadata": {},
   "outputs": [],
   "source": [
    "!gcc mm.c -o mm -fopenmp"
   ]
  },
  {
   "cell_type": "code",
   "execution_count": 4,
   "id": "c7a92f70-3e16-4fa8-b777-c0bece70bc4d",
   "metadata": {},
   "outputs": [
    {
     "name": "stdout",
     "output_type": "stream",
     "text": [
      "1000\t4.716444\n"
     ]
    }
   ],
   "source": [
    "!./mm 1000"
   ]
  },
  {
   "cell_type": "markdown",
   "id": "8f1e6d5b-beeb-449d-947c-a4e74ae96a36",
   "metadata": {},
   "source": [
    "## Execução Paralela com a Diretiva OpenMP"
   ]
  },
  {
   "cell_type": "code",
   "execution_count": 5,
   "id": "ca77cf7b-c77b-425d-bb56-cee9bf82350f",
   "metadata": {},
   "outputs": [
    {
     "name": "stdout",
     "output_type": "stream",
     "text": [
      "Overwriting mm.c\n"
     ]
    }
   ],
   "source": [
    "%%writefile mm.c\n",
    "#include <stdio.h>\n",
    "#include <stdlib.h>\n",
    "#include <omp.h>\n",
    "\n",
    "void initializeMatrix(int *matrix, int size)\n",
    "{\n",
    "  for(int i = 0; i < size; i++)\n",
    "    for(int j = 0; j < size; j++)\n",
    "      matrix[i * size + j] = rand() % (10 - 1) * 1;\n",
    "}\n",
    "\n",
    "void printMatrix(int *matrix, int size)\n",
    "{\n",
    "  for(int i = 0; i < size; i++)\n",
    "  {\n",
    "    for(int j = 0; j < size; j++)\n",
    "      printf(\"%d\\t\", matrix[i * size + j]);\n",
    "    printf(\"\\n\");\n",
    "  }\n",
    "  printf(\"\\n\");\n",
    "}\n",
    "\n",
    "int main (int argc, char **argv)\n",
    "{\n",
    " int size = atoi(argv[1]);  \n",
    " int i, j, k;\n",
    " double t1, t2;\n",
    "\n",
    " int  *A = (int *) malloc (sizeof(int)*size*size);\n",
    " int  *B = (int *) malloc (sizeof(int)*size*size);\n",
    " int  *C = (int *) malloc (sizeof(int)*size*size);\n",
    "\n",
    " initializeMatrix(A, size);\n",
    " initializeMatrix(B, size);\n",
    "\n",
    " t1 = omp_get_wtime();\n",
    " #pragma omp parallel for private(i, j, k)\n",
    "   for(i = 0; i < size; i++)\n",
    "    for(j = 0; j < size; j++)\n",
    "      for(k = 0; k < size; k++)\n",
    "        C[i * size + j] += A[i * size + k] * B[k * size + j];\n",
    " t2 = omp_get_wtime();\n",
    "\n",
    " printf(\"%d\\t%f\\n\",size, t2-t1);\n",
    "\n",
    " //printMatrix(A,size);\n",
    " //printMatrix(B,size);\n",
    " //printMatrix(C,size);\n",
    "\n",
    " return 0;\n",
    "}"
   ]
  },
  {
   "cell_type": "markdown",
   "id": "a6e6970c-48d6-4f11-86a8-0df497a40e2d",
   "metadata": {},
   "source": [
    "#### Explicação do código"
   ]
  },
  {
   "cell_type": "markdown",
   "id": "9850457b-3782-460d-8b00-7deb6af0e0bb",
   "metadata": {},
   "source": [
    "Para a execução em paralelo, só é necessário incluir a diretiva '#pragma omp parallel for private(i, j, k)' e indicar quais variáveis serão privadas para a memória compartilhada."
   ]
  },
  {
   "cell_type": "markdown",
   "id": "f4ced688-e6ef-476a-b55a-52413d8fb198",
   "metadata": {},
   "source": [
    "### Execução do Código Paralelo"
   ]
  },
  {
   "cell_type": "markdown",
   "id": "60af318a-a430-49cc-95f5-01bcca6196ad",
   "metadata": {},
   "source": [
    "Novamente utilizamos a diretiva para compilação, porém, agora utilizamos outra chamada para a execução paralela, em que informamos o número de threads a serem utilizadas na execução do código. Esse número pode ser alterado e deve ser avaliado para a seleção da melhor quantidade para cada máquina, por questões de simplicidade, esse valor exato não será avaliado."
   ]
  },
  {
   "cell_type": "code",
   "execution_count": 6,
   "id": "50c3f4c6-016f-47fd-9268-f50a0b09794b",
   "metadata": {},
   "outputs": [],
   "source": [
    "!gcc mm.c -o mm -fopenmp"
   ]
  },
  {
   "cell_type": "code",
   "execution_count": 7,
   "id": "741ec8bb-485d-4b6c-a822-28585f3fae56",
   "metadata": {},
   "outputs": [
    {
     "name": "stdout",
     "output_type": "stream",
     "text": [
      "1000\t1.277463\n"
     ]
    }
   ],
   "source": [
    "!OMP_NUM_THREADS=16 ./mm 1000"
   ]
  },
  {
   "cell_type": "markdown",
   "id": "63e23af1-50d3-4a5a-9a4d-1a0f89e51d1b",
   "metadata": {},
   "source": [
    "## Análise de Resultados"
   ]
  },
  {
   "cell_type": "markdown",
   "id": "999f7e4c-2bf6-4e19-bb3a-42c21248014c",
   "metadata": {},
   "source": [
    "A partir da execução dos dois códigos, foi observado que o código sequencial teve um tempo de execução de 4,71644 segundos, enquanto o código paralelo apresentou um tempo de 1,277463 segundos, caracterizando um speed-up de aproximadamente 3,70. Esses valores poderiam ser melhorados, a partir de outras análises, uso de outros paradigmas ou execução em outra máquina."
   ]
  },
  {
   "cell_type": "code",
   "execution_count": null,
   "id": "043df81b-648c-4432-a9dc-8a1a0d713ea1",
   "metadata": {},
   "outputs": [],
   "source": []
  }
 ],
 "metadata": {
  "kernelspec": {
   "display_name": "Python 3 (ipykernel)",
   "language": "python",
   "name": "python3"
  },
  "language_info": {
   "codemirror_mode": {
    "name": "ipython",
    "version": 3
   },
   "file_extension": ".py",
   "mimetype": "text/x-python",
   "name": "python",
   "nbconvert_exporter": "python",
   "pygments_lexer": "ipython3",
   "version": "3.10.12"
  }
 },
 "nbformat": 4,
 "nbformat_minor": 5
}
